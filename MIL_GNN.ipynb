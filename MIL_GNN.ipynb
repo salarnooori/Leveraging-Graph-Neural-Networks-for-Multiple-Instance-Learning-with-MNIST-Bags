{
  "cells": [
    {
      "cell_type": "markdown",
      "metadata": {
        "id": "uNZzjYehUl4-"
      },
      "source": [
        "# Multiple Instance Learning with Graph Neural Networks\n"
      ]
    },
    {
      "cell_type": "markdown",
      "metadata": {
        "id": "SiGoRuMyUl5A"
      },
      "source": [
        "## Proposed Method Description\n",
        "\n",
        "In this notebook, we explore **Multiple Instance Learning (MIL)** by leveraging **Graph Neural Networks (GNNs)** to learn bag-level representations. We will treat each bag of instances as a graph, where the individual instances are treated as nodes, and the edges between them capture their relationships. The goal is to explore the structural information within the bags and use GNNs to learn meaningful embeddings that can be used for **bag-level classification**.\n",
        "\n",
        "We will use the MNIST Bags dataset, where each bag consists of multiple images (instances) of digits, and the bag-level label corresponds to whether the bag consists of 9 or not."
      ]
    },
    {
      "cell_type": "markdown",
      "metadata": {
        "id": "DpHi7cjbUl5A"
      },
      "source": [
        "### Imports"
      ]
    },
    {
      "cell_type": "code",
      "execution_count": 1,
      "metadata": {
        "colab": {
          "base_uri": "https://localhost:8080/"
        },
        "id": "PzG46wbvVPtJ",
        "outputId": "fbbe0088-acfc-427d-8379-02c2acfb8345"
      },
      "outputs": [
        {
          "name": "stdout",
          "output_type": "stream",
          "text": [
            "Collecting torch_geometric\n",
            "  Downloading torch_geometric-2.6.1-py3-none-any.whl.metadata (63 kB)\n",
            "\u001b[?25l     \u001b[90m━━━━━━━━━━━━━━━━━━━━━━━━━━━━━━━━━━━━━━━━\u001b[0m \u001b[32m0.0/63.1 kB\u001b[0m \u001b[31m?\u001b[0m eta \u001b[36m-:--:--\u001b[0m\r\u001b[2K     \u001b[90m━━━━━━━━━━━━━━━━━━━━━━━━━━━━━━━━━━━━━━━━\u001b[0m \u001b[32m63.1/63.1 kB\u001b[0m \u001b[31m6.2 MB/s\u001b[0m eta \u001b[36m0:00:00\u001b[0m\n",
            "\u001b[?25hRequirement already satisfied: aiohttp in /usr/local/lib/python3.10/dist-packages (from torch_geometric) (3.11.10)\n",
            "Requirement already satisfied: fsspec in /usr/local/lib/python3.10/dist-packages (from torch_geometric) (2024.10.0)\n",
            "Requirement already satisfied: jinja2 in /usr/local/lib/python3.10/dist-packages (from torch_geometric) (3.1.4)\n",
            "Requirement already satisfied: numpy in /usr/local/lib/python3.10/dist-packages (from torch_geometric) (1.26.4)\n",
            "Requirement already satisfied: psutil>=5.8.0 in /usr/local/lib/python3.10/dist-packages (from torch_geometric) (5.9.5)\n",
            "Requirement already satisfied: pyparsing in /usr/local/lib/python3.10/dist-packages (from torch_geometric) (3.2.0)\n",
            "Requirement already satisfied: requests in /usr/local/lib/python3.10/dist-packages (from torch_geometric) (2.32.3)\n",
            "Requirement already satisfied: tqdm in /usr/local/lib/python3.10/dist-packages (from torch_geometric) (4.67.1)\n",
            "Requirement already satisfied: aiohappyeyeballs>=2.3.0 in /usr/local/lib/python3.10/dist-packages (from aiohttp->torch_geometric) (2.4.4)\n",
            "Requirement already satisfied: aiosignal>=1.1.2 in /usr/local/lib/python3.10/dist-packages (from aiohttp->torch_geometric) (1.3.2)\n",
            "Requirement already satisfied: async-timeout<6.0,>=4.0 in /usr/local/lib/python3.10/dist-packages (from aiohttp->torch_geometric) (4.0.3)\n",
            "Requirement already satisfied: attrs>=17.3.0 in /usr/local/lib/python3.10/dist-packages (from aiohttp->torch_geometric) (24.3.0)\n",
            "Requirement already satisfied: frozenlist>=1.1.1 in /usr/local/lib/python3.10/dist-packages (from aiohttp->torch_geometric) (1.5.0)\n",
            "Requirement already satisfied: multidict<7.0,>=4.5 in /usr/local/lib/python3.10/dist-packages (from aiohttp->torch_geometric) (6.1.0)\n",
            "Requirement already satisfied: propcache>=0.2.0 in /usr/local/lib/python3.10/dist-packages (from aiohttp->torch_geometric) (0.2.1)\n",
            "Requirement already satisfied: yarl<2.0,>=1.17.0 in /usr/local/lib/python3.10/dist-packages (from aiohttp->torch_geometric) (1.18.3)\n",
            "Requirement already satisfied: MarkupSafe>=2.0 in /usr/local/lib/python3.10/dist-packages (from jinja2->torch_geometric) (3.0.2)\n",
            "Requirement already satisfied: charset-normalizer<4,>=2 in /usr/local/lib/python3.10/dist-packages (from requests->torch_geometric) (3.4.0)\n",
            "Requirement already satisfied: idna<4,>=2.5 in /usr/local/lib/python3.10/dist-packages (from requests->torch_geometric) (3.10)\n",
            "Requirement already satisfied: urllib3<3,>=1.21.1 in /usr/local/lib/python3.10/dist-packages (from requests->torch_geometric) (2.2.3)\n",
            "Requirement already satisfied: certifi>=2017.4.17 in /usr/local/lib/python3.10/dist-packages (from requests->torch_geometric) (2024.12.14)\n",
            "Requirement already satisfied: typing-extensions>=4.1.0 in /usr/local/lib/python3.10/dist-packages (from multidict<7.0,>=4.5->aiohttp->torch_geometric) (4.12.2)\n",
            "Downloading torch_geometric-2.6.1-py3-none-any.whl (1.1 MB)\n",
            "\u001b[?25l   \u001b[90m━━━━━━━━━━━━━━━━━━━━━━━━━━━━━━━━━━━━━━━━\u001b[0m \u001b[32m0.0/1.1 MB\u001b[0m \u001b[31m?\u001b[0m eta \u001b[36m-:--:--\u001b[0m\r\u001b[2K   \u001b[90m━━━━━━━━━━━━━━━━━━━━━━━━━━━━━━━━━━━━━━━━\u001b[0m \u001b[32m1.1/1.1 MB\u001b[0m \u001b[31m61.1 MB/s\u001b[0m eta \u001b[36m0:00:00\u001b[0m\n",
            "\u001b[?25hInstalling collected packages: torch_geometric\n",
            "Successfully installed torch_geometric-2.6.1\n"
          ]
        }
      ],
      "source": [
        "!pip install torch_geometric"
      ]
    },
    {
      "cell_type": "code",
      "execution_count": 2,
      "metadata": {
        "colab": {
          "base_uri": "https://localhost:8080/"
        },
        "id": "NzYe3AJyVd-M",
        "outputId": "a4beac57-1a0e-4704-cc6b-bc4a6b959bc1"
      },
      "outputs": [
        {
          "name": "stdout",
          "output_type": "stream",
          "text": [
            "Collecting chamferdist\n",
            "  Downloading chamferdist-1.0.3.tar.gz (17 kB)\n",
            "  Preparing metadata (setup.py) ... \u001b[?25l\u001b[?25hdone\n",
            "Building wheels for collected packages: chamferdist\n",
            "  Building wheel for chamferdist (setup.py) ... \u001b[?25l\u001b[?25hdone\n",
            "  Created wheel for chamferdist: filename=chamferdist-1.0.3-cp310-cp310-linux_x86_64.whl size=6458934 sha256=54668a8dd2ac7e21a26ca24a35e2c3ab01e46ba0cfaf5a2a0562b0c4cb9d28eb\n",
            "  Stored in directory: /root/.cache/pip/wheels/e4/18/72/8195757e9529dc3e3d0b63c729c3fa5b6b753f47106e675741\n",
            "Successfully built chamferdist\n",
            "Installing collected packages: chamferdist\n",
            "Successfully installed chamferdist-1.0.3\n"
          ]
        }
      ],
      "source": [
        "!pip install chamferdist"
      ]
    },
    {
      "cell_type": "code",
      "execution_count": 3,
      "metadata": {
        "id": "5NiPfqtKUl5B"
      },
      "outputs": [],
      "source": [
        "from __future__ import print_function\n",
        "import numpy as np\n",
        "from matplotlib import pyplot as plt\n",
        "\n",
        "import torch\n",
        "import torch.utils.data as data_utils\n",
        "import torch.optim as optim\n",
        "from torch.autograd import Variable\n",
        "import torch.nn as nn\n",
        "import torch.nn.functional as F\n",
        "from torch_geometric.nn import SAGEConv, ClusterGCNConv, global_max_pool, max_pool, dense_diff_pool, DenseSAGEConv\n",
        "from torch_geometric.data import NeighborSampler, Data\n",
        "import torch_geometric.nn as pyg_nn\n",
        "import torch_geometric.utils as pyg_ut\n",
        "from chamferdist import ChamferDistance\n",
        "import numpy as np\n",
        "from torchvision import datasets, transforms"
      ]
    },
    {
      "cell_type": "markdown",
      "metadata": {
        "id": "TmCkLMVYUl5C"
      },
      "source": [
        "### Dataset\n",
        "Creating a dataset object that contains bags and their labels."
      ]
    },
    {
      "cell_type": "code",
      "execution_count": 4,
      "metadata": {
        "id": "E7jljBz7Ul5C"
      },
      "outputs": [],
      "source": [
        "class MNIST_Bags(data_utils.Dataset):\n",
        "    def __init__(self, target_number=9, mean_bag_length=10, var_bag_length=2, num_bag=250, seed=1, train=True):\n",
        "        self.target_number = target_number\n",
        "        self.mean_bag_length = mean_bag_length\n",
        "        self.var_bag_length = var_bag_length\n",
        "        self.num_bag = num_bag\n",
        "        self.train = train\n",
        "\n",
        "        self.r = np.random.RandomState(seed)\n",
        "\n",
        "        self.num_in_train = 60000\n",
        "        self.num_in_test = 10000\n",
        "\n",
        "        if self.train:\n",
        "            self.train_bags_list, self.train_labels_list = self._create_bags()\n",
        "        else:\n",
        "            self.test_bags_list, self.test_labels_list = self._create_bags()\n",
        "\n",
        "    def _create_bags(self):\n",
        "        if self.train:\n",
        "            loader = data_utils.DataLoader(datasets.MNIST('../datasets',\n",
        "                                                          train=True,\n",
        "                                                          download=True,\n",
        "                                                          transform=transforms.Compose([\n",
        "                                                              transforms.ToTensor(),\n",
        "                                                              transforms.Normalize((0.1307,), (0.3081,))])),\n",
        "                                           batch_size=self.num_in_train,\n",
        "                                           shuffle=False)\n",
        "        else:\n",
        "            loader = data_utils.DataLoader(datasets.MNIST('../datasets',\n",
        "                                                          train=False,\n",
        "                                                          download=True,\n",
        "                                                          transform=transforms.Compose([\n",
        "                                                              transforms.ToTensor(),\n",
        "                                                              transforms.Normalize((0.1307,), (0.3081,))])),\n",
        "                                           batch_size=self.num_in_test,\n",
        "                                           shuffle=False)\n",
        "\n",
        "        for (batch_data, batch_labels) in loader:\n",
        "            all_imgs = batch_data\n",
        "            all_labels = batch_labels\n",
        "\n",
        "        bags_list = []\n",
        "        labels_list = []\n",
        "\n",
        "        for i in range(self.num_bag):\n",
        "            bag_length = int(self.r.normal(self.mean_bag_length, self.var_bag_length, 1))\n",
        "            if bag_length < 1:\n",
        "                bag_length = 1\n",
        "\n",
        "            if self.train:\n",
        "                indices = torch.LongTensor(self.r.randint(0, self.num_in_train, bag_length))\n",
        "            else:\n",
        "                indices = torch.LongTensor(self.r.randint(0, self.num_in_test, bag_length))\n",
        "\n",
        "            labels_in_bag = all_labels[indices]\n",
        "            labels_in_bag = labels_in_bag == self.target_number\n",
        "\n",
        "            bags_list.append(all_imgs[indices])\n",
        "            labels_list.append(labels_in_bag)\n",
        "\n",
        "        return bags_list, labels_list\n",
        "\n",
        "    def __len__(self):\n",
        "        if self.train:\n",
        "            return len(self.train_labels_list)\n",
        "        else:\n",
        "            return len(self.test_labels_list)\n",
        "\n",
        "    def __getitem__(self, index):\n",
        "        if self.train:\n",
        "            bag = self.train_bags_list[index]\n",
        "            label = [max(self.train_labels_list[index]), self.train_labels_list[index]]\n",
        "        else:\n",
        "            bag = self.test_bags_list[index]\n",
        "            label = [max(self.test_labels_list[index]), self.test_labels_list[index]]\n",
        "\n",
        "        return bag, label\n"
      ]
    },
    {
      "cell_type": "markdown",
      "metadata": {
        "id": "R6qgJpKoUl5D"
      },
      "source": [
        "#### Visualize the data\n",
        "\n",
        "Visulaizing two bags of our dataset ."
      ]
    },
    {
      "cell_type": "code",
      "execution_count": 5,
      "metadata": {
        "colab": {
          "base_uri": "https://localhost:8080/",
          "height": 983
        },
        "id": "VRTGkG_CY8PN",
        "outputId": "cdc64c11-09e6-4729-b107-1bae33cd35d8"
      },
      "outputs": [
        {
          "name": "stdout",
          "output_type": "stream",
          "text": [
            "Downloading http://yann.lecun.com/exdb/mnist/train-images-idx3-ubyte.gz\n",
            "Failed to download (trying next):\n",
            "HTTP Error 403: Forbidden\n",
            "\n",
            "Downloading https://ossci-datasets.s3.amazonaws.com/mnist/train-images-idx3-ubyte.gz\n",
            "Downloading https://ossci-datasets.s3.amazonaws.com/mnist/train-images-idx3-ubyte.gz to ../datasets/MNIST/raw/train-images-idx3-ubyte.gz\n"
          ]
        },
        {
          "name": "stderr",
          "output_type": "stream",
          "text": [
            "100%|██████████| 9.91M/9.91M [00:02<00:00, 4.58MB/s]\n"
          ]
        },
        {
          "name": "stdout",
          "output_type": "stream",
          "text": [
            "Extracting ../datasets/MNIST/raw/train-images-idx3-ubyte.gz to ../datasets/MNIST/raw\n",
            "\n",
            "Downloading http://yann.lecun.com/exdb/mnist/train-labels-idx1-ubyte.gz\n",
            "Failed to download (trying next):\n",
            "HTTP Error 403: Forbidden\n",
            "\n",
            "Downloading https://ossci-datasets.s3.amazonaws.com/mnist/train-labels-idx1-ubyte.gz\n",
            "Downloading https://ossci-datasets.s3.amazonaws.com/mnist/train-labels-idx1-ubyte.gz to ../datasets/MNIST/raw/train-labels-idx1-ubyte.gz\n"
          ]
        },
        {
          "name": "stderr",
          "output_type": "stream",
          "text": [
            "100%|██████████| 28.9k/28.9k [00:00<00:00, 134kB/s]\n"
          ]
        },
        {
          "name": "stdout",
          "output_type": "stream",
          "text": [
            "Extracting ../datasets/MNIST/raw/train-labels-idx1-ubyte.gz to ../datasets/MNIST/raw\n",
            "\n",
            "Downloading http://yann.lecun.com/exdb/mnist/t10k-images-idx3-ubyte.gz\n",
            "Failed to download (trying next):\n",
            "HTTP Error 403: Forbidden\n",
            "\n",
            "Downloading https://ossci-datasets.s3.amazonaws.com/mnist/t10k-images-idx3-ubyte.gz\n",
            "Downloading https://ossci-datasets.s3.amazonaws.com/mnist/t10k-images-idx3-ubyte.gz to ../datasets/MNIST/raw/t10k-images-idx3-ubyte.gz\n"
          ]
        },
        {
          "name": "stderr",
          "output_type": "stream",
          "text": [
            "100%|██████████| 1.65M/1.65M [00:01<00:00, 1.26MB/s]\n"
          ]
        },
        {
          "name": "stdout",
          "output_type": "stream",
          "text": [
            "Extracting ../datasets/MNIST/raw/t10k-images-idx3-ubyte.gz to ../datasets/MNIST/raw\n",
            "\n",
            "Downloading http://yann.lecun.com/exdb/mnist/t10k-labels-idx1-ubyte.gz\n",
            "Failed to download (trying next):\n",
            "HTTP Error 403: Forbidden\n",
            "\n",
            "Downloading https://ossci-datasets.s3.amazonaws.com/mnist/t10k-labels-idx1-ubyte.gz\n",
            "Downloading https://ossci-datasets.s3.amazonaws.com/mnist/t10k-labels-idx1-ubyte.gz to ../datasets/MNIST/raw/t10k-labels-idx1-ubyte.gz\n"
          ]
        },
        {
          "name": "stderr",
          "output_type": "stream",
          "text": [
            "100%|██████████| 4.54k/4.54k [00:00<00:00, 9.15MB/s]\n"
          ]
        },
        {
          "name": "stdout",
          "output_type": "stream",
          "text": [
            "Extracting ../datasets/MNIST/raw/t10k-labels-idx1-ubyte.gz to ../datasets/MNIST/raw\n",
            "\n"
          ]
        },
        {
          "name": "stderr",
          "output_type": "stream",
          "text": [
            "<ipython-input-4-191b28251b42>:47: DeprecationWarning: Conversion of an array with ndim > 0 to a scalar is deprecated, and will error in future. Ensure you extract a single element from your array before performing this operation. (Deprecated NumPy 1.25.)\n",
            "  bag_length = int(self.r.normal(self.mean_bag_length, self.var_bag_length, 1))\n"
          ]
        },
        {
          "data": {
            "image/png": "[encoded data removed]",
            "text/plain": [
              "<Figure size 800x200 with 13 Axes>"
            ]
          },
          "metadata": {},
          "output_type": "display_data"
        },
        {
          "data": {
            "image/png": "[encoded data removed]",
            "text/plain": [
              "<Figure size 800x200 with 8 Axes>"
            ]
          },
          "metadata": {},
          "output_type": "display_data"
        }
      ],
      "source": [
        "# Create the dataset\n",
        "dataset = MNIST_Bags(train=True, num_bag=2)\n",
        "\n",
        "# Extract two bags and their labels\n",
        "bag1, label1 = dataset[0]\n",
        "bag2, label2 = dataset[1]\n",
        "\n",
        "# Convert tensors to numpy arrays for visualization\n",
        "bag1_images = bag1.numpy()\n",
        "bag2_images = bag2.numpy()\n",
        "\n",
        "# Labels (max label and all labels)\n",
        "max_label1, all_labels1 = label1\n",
        "max_label2, all_labels2 = label2\n",
        "\n",
        "plt.figure(figsize=(8, 2))\n",
        "for i, image in enumerate(bag1_images):\n",
        "    plt.subplot(1, len(bag1_images), i + 1)\n",
        "    plt.imshow(image.squeeze(), cmap='gray')\n",
        "    plt.axis('off')\n",
        "plt.suptitle(f\"Bag 1 - Contains 9: {max_label1}\", fontsize=16)\n",
        "plt.show()\n",
        "\n",
        "plt.figure(figsize=(8, 2))\n",
        "for i, image in enumerate(bag2_images):\n",
        "    plt.subplot(1, len(bag2_images), i + 1)\n",
        "    plt.imshow(image.squeeze(), cmap='gray')\n",
        "    plt.axis('off')\n",
        "plt.suptitle(f\"Bag 2 - Contains 9: {max_label2}\", fontsize=16)\n",
        "plt.show()"
      ]
    },
    {
      "cell_type": "markdown",
      "metadata": {
        "id": "qt4XIjdVUl5E"
      },
      "source": [
        "#### Data Loaders\n",
        "Useing DataLoader to get the train and test loaders."
      ]
    },
    {
      "cell_type": "code",
      "execution_count": 6,
      "metadata": {
        "colab": {
          "base_uri": "https://localhost:8080/"
        },
        "id": "YzPVFijSaq2b",
        "outputId": "0c785b9e-352c-4525-8a8a-7799bd3a12f7"
      },
      "outputs": [
        {
          "name": "stderr",
          "output_type": "stream",
          "text": [
            "<ipython-input-4-191b28251b42>:47: DeprecationWarning: Conversion of an array with ndim > 0 to a scalar is deprecated, and will error in future. Ensure you extract a single element from your array before performing this operation. (Deprecated NumPy 1.25.)\n",
            "  bag_length = int(self.r.normal(self.mean_bag_length, self.var_bag_length, 1))\n"
          ]
        }
      ],
      "source": [
        "import torch\n",
        "from torch.utils.data import DataLoader\n",
        "\n",
        "train_dataset = MNIST_Bags(target_number=9, mean_bag_length=10, var_bag_length=2, num_bag=300, seed=1, train=True)\n",
        "test_dataset = MNIST_Bags(target_number=9, mean_bag_length=10, var_bag_length=2, num_bag=100, seed=1, train=False)\n",
        "\n",
        "train_loader = DataLoader(train_dataset, batch_size=1, shuffle=True)\n",
        "test_loader = DataLoader(test_dataset, batch_size=1, shuffle=False)"
      ]
    },
    {
      "cell_type": "markdown",
      "metadata": {
        "id": "X75tI_-mUl5F"
      },
      "source": [
        "### Model\n",
        "\n",
        "Here we will define our GraphBasedMIL model, complete each funcion based on the comments.\n",
        "\n"
      ]
    },
    {
      "cell_type": "code",
      "execution_count": 7,
      "metadata": {
        "id": "A5AKfWTY7zWY"
      },
      "outputs": [],
      "source": [
        "device = torch.device('cuda' if torch.cuda.is_available() else 'cpu')"
      ]
    },
    {
      "cell_type": "code",
      "execution_count": 8,
      "metadata": {
        "id": "6LNas-3NUl5F"
      },
      "outputs": [],
      "source": [
        "import torch\n",
        "import torch.nn as nn\n",
        "import torch.nn.functional as F\n",
        "\n",
        "\n",
        "class GraphBasedMIL(nn.Module):\n",
        "    \"\"\"\n",
        "    A neural network class for graph-based Multiple Instance Learning (MIL).\n",
        "    This model learns to process a bag of instances and predict the class label for the bag.\n",
        "    \"\"\"\n",
        "\n",
        "    def __init__(self):\n",
        "        \"\"\"\n",
        "        Initialize the GraphBasedMIL model with various layers and parameters.\n",
        "\n",
        "        Outputs:\n",
        "        - A Graph-based MIL model instance with layers for feature extraction, GNN embedding,\n",
        "          clustering, and MLP for final classification.\n",
        "        \"\"\"\n",
        "        super(GraphBasedMIL, self).__init__()\n",
        "        self.L = 50\n",
        "        self.C = 1\n",
        "        self.classes = 2\n",
        "\n",
        "        self.n = 50\n",
        "        self.n_step = 0.5\n",
        "        self.num_adj_parm = 0.1\n",
        "\n",
        "        self.feature_extractor_part1 = nn.Sequential(\n",
        "            nn.Conv2d(1, 20, kernel_size=5),\n",
        "            nn.ReLU(),\n",
        "            nn.MaxPool2d(2, stride=2),\n",
        "            nn.Conv2d(20, 50, kernel_size=5),\n",
        "            nn.ReLU(),\n",
        "            nn.MaxPool2d(2, stride=2)\n",
        "        )\n",
        "\n",
        "        self.feature_extractor_part2 = nn.Sequential(\n",
        "            nn.Linear(50 * 4 * 4, self.L),\n",
        "            nn.ReLU(),\n",
        "        )\n",
        "\n",
        "        self.gnn_embd = DenseSAGEConv(self.L, self.L)\n",
        "        self.bn1 = nn.BatchNorm1d(self.L)\n",
        "\n",
        "        self.gnn_pool = DenseSAGEConv(self.L, self.C)\n",
        "        self.bn2 = torch.nn.BatchNorm1d(self.C)\n",
        "        self.mlp = nn.Linear(self.C, self.C, bias=True)\n",
        "\n",
        "        self.gnn_embd2 = DenseSAGEConv(self.L, self.L)\n",
        "        self.bn3 = nn.BatchNorm1d(self.L)\n",
        "\n",
        "        input_layers = int(self.L * self.C)\n",
        "        hidden_layers = int(self.L * self.C / 2)\n",
        "        output_layer = self.classes\n",
        "        self.lin1 = nn.Linear(input_layers, hidden_layers, bias=True)\n",
        "        self.lin2 = nn.Linear(hidden_layers, output_layer, bias=True)\n",
        "\n",
        "\n",
        "    def forward(self, x):\n",
        "        \"\"\"\n",
        "        Forward pass of the GraphBasedMIL model.\n",
        "\n",
        "        Inputs:\n",
        "        - x (torch.Tensor): Input tensor of shape [batch_size, channels, height, width].\n",
        "\n",
        "        Outputs:\n",
        "        - Y_prob (torch.Tensor): Predicted class probabilities.\n",
        "        - loss (torch.Tensor): Total loss value including auxiliary and main losses.\n",
        "        \"\"\"\n",
        "        x = x.squeeze(0)\n",
        "        H = self.feature_extractor_part1(x)\n",
        "        H = H.view(-1, 50 * 4 * 4)\n",
        "        H = self.feature_extractor_part2(H)\n",
        "\n",
        "        X = H\n",
        "        A = torch.ones((len(X), len(X)), device=device)\n",
        "\n",
        "        Z = F.leaky_relu(self.gnn_embd(X, A), negative_slope=0.01)\n",
        "        loss_emb_1 = self.auxiliary_loss(A, Z)\n",
        "\n",
        "        S = F.leaky_relu(self.gnn_pool(X, A), negative_slope=0.01)\n",
        "        S = F.leaky_relu(self.mlp(S), negative_slope=0.01)\n",
        "\n",
        "        X, A, l1, e1 = dense_diff_pool(Z, A, S)\n",
        "\n",
        "        X = F.leaky_relu(self.gnn_embd(X, A), negative_slope=0.01)\n",
        "        loss_emb_2 = self.auxiliary_loss(A, X)\n",
        "\n",
        "        X = X.view(1, -1)\n",
        "\n",
        "        X = F.leaky_relu(self.lin1(X), 0.01)\n",
        "        X = F.leaky_relu(self.lin2(X), 0.01)\n",
        "\n",
        "        Y_prob = F.softmax(X.squeeze(), dim=0)\n",
        "\n",
        "        return Y_prob, (l1 + loss_emb_1 + loss_emb_2)\n",
        "\n",
        "    def convert_bag_to_graph_(self, bag, N):\n",
        "        \"\"\"\n",
        "        Converts a bag of instances to a graph, where each instance is a node.\n",
        "\n",
        "        Inputs:\n",
        "        - bag (torch.Tensor): Bag of instance features.\n",
        "        - N (float): Threshold distance for edge creation.\n",
        "\n",
        "        Outputs:\n",
        "        - bag (torch.Tensor): Node features for the graph.\n",
        "        - edge_index (torch.Tensor): Indices of edges between nodes.\n",
        "        \"\"\"\n",
        "        edge_index = []\n",
        "        chamferDist = ChamferDistance()\n",
        "        for cur_i, cur_node in enumerate(bag):\n",
        "            for alt_i, alt_node in enumerate(bag):\n",
        "                if cur_i != alt_i and self.euclidean_distance_(cur_node, alt_node) < N:\n",
        "                    edge_index.append(torch.tensor([cur_i, alt_i]).cuda())\n",
        "\n",
        "        if len(edge_index) < self.num_adj_parm * bag.shape[0]:\n",
        "            print(f\"INFO: get number of adjecment {len(edge_index)}, min len is {self.num_adj_parm * bag.shape[0]}\")\n",
        "            return self.convert_bag_to_graph_(bag, N = (N + self.n_step))\n",
        "\n",
        "        return bag, torch.stack(edge_index).transpose(1, 0)\n",
        "\n",
        "\n",
        "    def euclidean_distance_(self, X, Y):\n",
        "        \"\"\"\n",
        "        Compute the Euclidean distance between two vectors.\n",
        "\n",
        "        Inputs:\n",
        "        - X (torch.Tensor): First vector.\n",
        "        - Y (torch.Tensor): Second vector.\n",
        "\n",
        "        Outputs:\n",
        "        - dist (torch.Tensor): Euclidean distance between X and Y.\n",
        "        \"\"\"\n",
        "        return torch.sqrt(torch.dot(X, X) - 2 * torch.dot(X, Y) + torch.dot(Y, Y))\n",
        "\n",
        "    def auxiliary_loss(self, A, S):\n",
        "        \"\"\"\n",
        "        Computes the auxiliary loss for graph structure regularization.\n",
        "\n",
        "        Inputs:\n",
        "        - A (torch.Tensor): Adjacency matrix of the graph.\n",
        "        - S (torch.Tensor): Node features (softmax probabilities).\n",
        "\n",
        "        Outputs:\n",
        "        - link_loss (torch.Tensor): Computed loss based on adjacency and node features.\n",
        "        \"\"\"\n",
        "        A = A.unsqueeze(0) if A.dim() == 2 else A\n",
        "        S = S.unsqueeze(0) if S.dim() == 2 else S\n",
        "\n",
        "        S = torch.softmax(S, dim=-1)\n",
        "\n",
        "        link_loss = A - torch.matmul(S, S.transpose(1, 2))\n",
        "        link_loss = torch.norm(link_loss, p=2)\n",
        "        link_loss = link_loss / A.numel()\n",
        "\n",
        "        return link_loss\n",
        "\n",
        "    def calculate_classification_error(self, output, target, TP, TN, FP, FN):\n",
        "        \"\"\"\n",
        "        Calculate the classification error metrics (True Positive, True Negative, False Positive, False Negative).\n",
        "\n",
        "        Inputs:\n",
        "        - output (torch.Tensor): The predicted class probabilities (e.g., from softmax).\n",
        "        - target (torch.Tensor): The ground truth labels.\n",
        "        - TP (list): True Positives count (mutable).\n",
        "        - TN (list): True Negatives count (mutable).\n",
        "        - FP (list): False Positives count (mutable).\n",
        "        - FN (list): False Negatives count (mutable).\n",
        "\n",
        "        Outputs:\n",
        "        - Updates TP, TN, FP, FN based on the predicted and target labels.\n",
        "\n",
        "        Instructions:\n",
        "        - Implement the logic to find the predicted class using `torch.argmax(output)` (for binary classification).\n",
        "        - Compare the prediction with the target:\n",
        "            - If the prediction and target both equal 1, increment TP.\n",
        "            - If the prediction is 1 and the target is 0, increment FP.\n",
        "            - If the prediction is 0 and the target is 1, increment FN.\n",
        "            - If both prediction and target are 0, increment TN.\n",
        "        \"\"\"\n",
        "        pred = torch.argmax(output)\n",
        "\n",
        "        if pred.eq(1) and target.eq(1):\n",
        "            TP[0] += 1\n",
        "\n",
        "        elif pred.eq(1) and target.eq(0):\n",
        "            FP[0] += 1\n",
        "\n",
        "        elif pred.eq(0) and target.eq(1):\n",
        "            FN[0] += 1\n",
        "\n",
        "        elif pred.eq(0) and target.eq(0):\n",
        "            TN[0] += 1\n",
        "\n",
        "    def cross_entropy_loss(self, output, target):\n",
        "        \"\"\"\n",
        "        Calculate the cross-entropy loss for the classification task.\n",
        "\n",
        "        Inputs:\n",
        "        - output (torch.Tensor): Model output (raw logits or probabilities).\n",
        "        - target (torch.Tensor or list): Ground truth labels (should be in long type for classification).\n",
        "\n",
        "        Outputs:\n",
        "        - l1 (torch.Tensor): Cross-entropy loss.\n",
        "\n",
        "        Instructions:\n",
        "        - If `output` has only one dimension, add an extra dimension to match the expected input format.\n",
        "        - Convert `target` to a tensor of type `long` and move to the GPU if necessary.\n",
        "        - Use the built-in `CrossEntropyLoss` from PyTorch to compute the loss.\n",
        "        - Return the computed cross-entropy loss.\n",
        "        \"\"\"\n",
        "        output = output.unsqueeze(0) if output.dim() == 1 else output\n",
        "        target = torch.tensor(target, dtype=torch.long).cuda()\n",
        "        loss = nn.CrossEntropyLoss()\n",
        "        l1 = loss(output, target)\n",
        "\n",
        "        return l1\n",
        "\n",
        "    def calculate_objective(self, X, target):\n",
        "        \"\"\"\n",
        "        Calculate the objective function that combines the likelihood loss and any regularization terms.\n",
        "\n",
        "        Inputs:\n",
        "        - X (torch.Tensor): Input features or data used for forward pass.\n",
        "        - target (torch.Tensor or list): Ground truth labels.\n",
        "\n",
        "        Outputs:\n",
        "        - neg_log_likelihood (float): The negative log-likelihood (log loss).\n",
        "\n",
        "        Instructions:\n",
        "        - Convert the `target` to float type for compatibility with the computation.\n",
        "        - Pass the input `X` through the forward pass to get predicted probabilities (`Y_prob`) and auxiliary loss (`l1`).\n",
        "        - Clamp the predicted probabilities (`Y_prob`) to prevent log(0) errors.\n",
        "        - Compute the negative log-likelihood using the target labels and predicted probabilities.\n",
        "        - Return the computed negative log-likelihood.\n",
        "        \"\"\"\n",
        "        target = target.float()\n",
        "        Y_prob, l1 = self.forward(X)\n",
        "        Y_prob = torch.clamp(Y_prob, min=1e-5, max=1. - 1e-5)\n",
        "        neg_log_likelihood = -1. * (target * torch.log(Y_prob) + (1. - target) * torch.log(1. - Y_prob))  # negative log bernoulli\n",
        "\n",
        "        return neg_log_likelihood.data[0]\n",
        "\n"
      ]
    },
    {
      "cell_type": "markdown",
      "metadata": {
        "id": "h3UMODL7Ul5G"
      },
      "source": [
        "### Training"
      ]
    },
    {
      "cell_type": "code",
      "execution_count": 9,
      "metadata": {
        "id": "AyQj0dGDKWHD"
      },
      "outputs": [],
      "source": [
        "def train(model, optimizer, train_loader):\n",
        "    \"\"\"\n",
        "    Train the model for one epoch.\n",
        "\n",
        "    Inputs:\n",
        "    - model: The model to train.\n",
        "    - optimizer: The optimizer to use for gradient descent.\n",
        "    - train_loader: DataLoader object that provides batches of training data.\n",
        "\n",
        "    Outputs:\n",
        "    - train_loss (float): Average training loss for the epoch.\n",
        "    - Accuracy (float): Accuracy of the model on the training set.\n",
        "    - Precision (float): Precision of the model on the training set.\n",
        "    - Recall (float): Recall of the model on the training set.\n",
        "    - F1 (float): F1 score of the model on the training set.\n",
        "\n",
        "    Instructions:\n",
        "    - Set the model to training mode using `model.train()`.\n",
        "    - Initialize variables to track loss and metrics: `train_loss`, `TP`, `TN`, `FP`, `FN`, and `ALL`.\n",
        "    - Loop over batches of data in `train_loader`:\n",
        "        - Get `data` (input) and `label` (ground truth).\n",
        "        - Move data and label to GPU if available (`data.cuda()`, `target.cuda()`).\n",
        "        - Zero the gradients using `optimizer.zero_grad()` every `batch` iterations.\n",
        "        - Pass the data through the model (`output, l = model(data)`).\n",
        "        - Compute the cross-entropy loss using `model.cross_entropy_loss(output, target)` and add any auxiliary loss `l`.\n",
        "        - Use `model.calculate_classification_error(output, target, TP, TN, FP, FN)` to update classification metrics.\n",
        "        - Update the total `train_loss`.\n",
        "        - Perform backpropagation and optimization (`loss.backward()` and `optimizer.step()`) every `batch` iterations.\n",
        "    - Compute final metrics:\n",
        "        - **Accuracy**: (TP + TN) / total samples.\n",
        "        - **Precision**: TP / (TP + FP) (Handle division by zero).\n",
        "        - **Recall**: TP / (TP + FN) (Handle division by zero).\n",
        "        - **F1 score**: Harmonic mean of Precision and Recall (Handle division by zero).\n",
        "    - Return `train_loss`, `Accuracy`, `Precision`, `Recall`, and `F1`.\n",
        "    \"\"\"\n",
        "    model.train()\n",
        "    train_loss = 0.\n",
        "    batch = 4\n",
        "\n",
        "    TP = [0.]\n",
        "    TN = [0.]\n",
        "    FP = [0.]\n",
        "    FN = [0.]\n",
        "    ALL = 0.\n",
        "\n",
        "    for batch_idx, (data, label) in enumerate(train_loader):\n",
        "        target = torch.tensor(label[0], dtype=torch.long)\n",
        "\n",
        "        if torch.cuda.is_available():\n",
        "            data, target = data.cuda(), target.cuda()\n",
        "\n",
        "        if batch_idx % batch == 0:\n",
        "            optimizer.zero_grad()\n",
        "\n",
        "        output, l = model(data)\n",
        "        loss = model.cross_entropy_loss(output, target) + l\n",
        "\n",
        "        model.calculate_classification_error(output, target, TP, TN, FP, FN)\n",
        "        ALL += 1\n",
        "        train_loss += loss\n",
        "\n",
        "        if batch_idx % batch == 0:\n",
        "            loss.backward()\n",
        "            optimizer.step()\n",
        "\n",
        "    train_loss /= ALL\n",
        "\n",
        "    Accuracy = (TP[0] + TN[0]) / ALL\n",
        "    Precision = TP[0] / (TP[0] + FP[0]) if (TP[0] + FP[0]) != 0. else TP[0]\n",
        "    Recall =  TP[0] / (TP[0] + FN[0]) if (TP[0] + FN[0]) != 0. else TP[0]\n",
        "    F1 = 2 * (Recall * Precision) / (Recall + Precision) if (Recall + Precision) != 0 else  2 * (Recall * Precision)\n",
        "\n",
        "    return train_loss, Accuracy, Precision, Recall, F1\n",
        "\n",
        "def test(model, test_loader):\n",
        "    \"\"\"\n",
        "    Evaluate the model on the test set.\n",
        "\n",
        "    Inputs:\n",
        "    - model: The trained model to evaluate.\n",
        "    - test_loader: DataLoader object that provides batches of test data.\n",
        "\n",
        "    Outputs:\n",
        "    - Accuracy (float): Accuracy of the model on the test set.\n",
        "    - Precision (float): Precision of the model on the test set.\n",
        "    - Recall (float): Recall of the model on the test set.\n",
        "    - F1 (float): F1 score of the model on the test set.\n",
        "\n",
        "    Instructions:\n",
        "    - Set the model to evaluation mode using `model.eval()`.\n",
        "    - Initialize variables to track metrics: `TP`, `TN`, `FP`, `FN`, and `ALL`.\n",
        "    - Loop over batches of data in `test_loader`:\n",
        "        - Get `data` (input) and `label` (ground truth).\n",
        "        - Move data and label to GPU if available (`data.cuda()`, `target.cuda()`).\n",
        "        - Pass the data through the model (`output, _ = model(data)`).\n",
        "        - Use `model.calculate_classification_error(output, target, TP, TN, FP, FN)` to update classification metrics.\n",
        "    - Compute final metrics:\n",
        "        - **Accuracy**: (TP + TN) / total samples.\n",
        "        - **Precision**: TP / (TP + FP) (Handle division by zero).\n",
        "        - **Recall**: TP / (TP + FN) (Handle division by zero).\n",
        "        - **F1 score**: Harmonic mean of Precision and Recall (Handle division by zero).\n",
        "    - Return `Accuracy`, `Precision`, `Recall`, and `F1`.\n",
        "    \"\"\"\n",
        "    model.eval()\n",
        "\n",
        "    TP = [0.]\n",
        "    TN = [0.]\n",
        "    FP = [0.]\n",
        "    FN = [0.]\n",
        "    ALL = 0.\n",
        "    for batch_idx, (data, label) in enumerate(test_loader):\n",
        "        target = torch.tensor(label[0], dtype=torch.long)\n",
        "\n",
        "        if torch.cuda.is_available():\n",
        "            data, target = data.cuda(), target.cuda()\n",
        "\n",
        "        output, _ = model(data)\n",
        "        model.calculate_classification_error(output, target, TP, TN, FP, FN)\n",
        "        ALL += 1\n",
        "\n",
        "    Accuracy = (TP[0] + TN[0]) / ALL\n",
        "    Precision = TP[0] / (TP[0] + FP[0]) if (TP[0] + FP[0]) != 0. else TP[0]\n",
        "    Recall =  TP[0] / (TP[0] + FN[0]) if (TP[0] + FN[0]) != 0. else TP[0]\n",
        "    F1 = 2 * (Recall * Precision) / (Recall + Precision) if (Recall + Precision) != 0 else  2 * (Recall * Precision)\n",
        "\n",
        "    return  Accuracy, Precision, Recall, F1"
      ]
    },
    {
      "cell_type": "code",
      "execution_count": 19,
      "metadata": {
        "id": "b_q_DXS3Ul5H"
      },
      "outputs": [],
      "source": [
        "model = GraphBasedMIL().cuda()\n",
        "optimizer = optim.Adam(model.parameters(), lr=3e-7, betas=(0.8, 0.999), weight_decay=1e-2)"
      ]
    },
    {
      "cell_type": "code",
      "execution_count": 20,
      "metadata": {
        "colab": {
          "base_uri": "https://localhost:8080/"
        },
        "id": "MBi8eD3jMap-",
        "outputId": "f3dfdc13-0d6e-4751-d78b-4291ea38bdc8"
      },
      "outputs": [
        {
          "name": "stderr",
          "output_type": "stream",
          "text": [
            "<ipython-input-9-f9d2c58e9dea>:47: UserWarning: To copy construct from a tensor, it is recommended to use sourceTensor.clone().detach() or sourceTensor.clone().detach().requires_grad_(True), rather than torch.tensor(sourceTensor).\n",
            "  target = torch.tensor(label[0], dtype=torch.long)\n",
            "<ipython-input-8-da598201ad49>:215: UserWarning: To copy construct from a tensor, it is recommended to use sourceTensor.clone().detach() or sourceTensor.clone().detach().requires_grad_(True), rather than torch.tensor(sourceTensor).\n",
            "  target = torch.tensor(target, dtype=torch.long).cuda()\n",
            "<ipython-input-9-f9d2c58e9dea>:112: UserWarning: To copy construct from a tensor, it is recommended to use sourceTensor.clone().detach() or sourceTensor.clone().detach().requires_grad_(True), rather than torch.tensor(sourceTensor).\n",
            "  target = torch.tensor(label[0], dtype=torch.long)\n"
          ]
        },
        {
          "name": "stdout",
          "output_type": "stream",
          "text": [
            "Epoch: 1/100, Train Loss: 94.5866, Train Acc: 0.3667, Train Precision: 0.0000, Train Recall: 0.0000, Train F1: 0.0000, Test Acc: 0.4400, Test Precision: 0.0000, Test Recall: 0.0000, Test F1: 0.0000\n",
            "Epoch: 2/100, Train Loss: 94.5861, Train Acc: 0.3667, Train Precision: 0.0000, Train Recall: 0.0000, Train F1: 0.0000, Test Acc: 0.4400, Test Precision: 0.0000, Test Recall: 0.0000, Test F1: 0.0000\n",
            "Epoch: 3/100, Train Loss: 94.5855, Train Acc: 0.3667, Train Precision: 0.0000, Train Recall: 0.0000, Train F1: 0.0000, Test Acc: 0.4400, Test Precision: 0.0000, Test Recall: 0.0000, Test F1: 0.0000\n",
            "Epoch: 4/100, Train Loss: 94.5849, Train Acc: 0.3667, Train Precision: 0.0000, Train Recall: 0.0000, Train F1: 0.0000, Test Acc: 0.4400, Test Precision: 0.0000, Test Recall: 0.0000, Test F1: 0.0000\n",
            "Epoch: 5/100, Train Loss: 94.5846, Train Acc: 0.3667, Train Precision: 0.0000, Train Recall: 0.0000, Train F1: 0.0000, Test Acc: 0.4400, Test Precision: 0.0000, Test Recall: 0.0000, Test F1: 0.0000\n",
            "Epoch: 6/100, Train Loss: 94.5842, Train Acc: 0.3667, Train Precision: 0.0000, Train Recall: 0.0000, Train F1: 0.0000, Test Acc: 0.4400, Test Precision: 0.0000, Test Recall: 0.0000, Test F1: 0.0000\n",
            "Epoch: 7/100, Train Loss: 94.5839, Train Acc: 0.3667, Train Precision: 0.0000, Train Recall: 0.0000, Train F1: 0.0000, Test Acc: 0.4400, Test Precision: 0.0000, Test Recall: 0.0000, Test F1: 0.0000\n",
            "Epoch: 8/100, Train Loss: 94.5834, Train Acc: 0.3667, Train Precision: 0.0000, Train Recall: 0.0000, Train F1: 0.0000, Test Acc: 0.4500, Test Precision: 1.0000, Test Recall: 0.0179, Test F1: 0.0351\n",
            "Epoch: 9/100, Train Loss: 94.5828, Train Acc: 0.3733, Train Precision: 1.0000, Train Recall: 0.0105, Train F1: 0.0208, Test Acc: 0.4500, Test Precision: 1.0000, Test Recall: 0.0179, Test F1: 0.0351\n",
            "Epoch: 10/100, Train Loss: 94.5822, Train Acc: 0.3800, Train Precision: 0.7500, Train Recall: 0.0316, Train F1: 0.0606, Test Acc: 0.4500, Test Precision: 1.0000, Test Recall: 0.0179, Test F1: 0.0351\n",
            "Epoch: 11/100, Train Loss: 94.5816, Train Acc: 0.4067, Train Precision: 0.8750, Train Recall: 0.0737, Train F1: 0.1359, Test Acc: 0.4400, Test Precision: 0.5000, Test Recall: 0.0536, Test F1: 0.0968\n",
            "Epoch: 12/100, Train Loss: 94.5811, Train Acc: 0.4267, Train Precision: 0.7647, Train Recall: 0.1368, Train F1: 0.2321, Test Acc: 0.4400, Test Precision: 0.5000, Test Recall: 0.0714, Test F1: 0.1250\n",
            "Epoch: 13/100, Train Loss: 94.5803, Train Acc: 0.4700, Train Precision: 0.7925, Train Recall: 0.2211, Train F1: 0.3457, Test Acc: 0.4500, Test Precision: 0.5217, Test Recall: 0.2143, Test F1: 0.3038\n",
            "Epoch: 14/100, Train Loss: 94.5798, Train Acc: 0.4933, Train Precision: 0.7639, Train Recall: 0.2895, Train F1: 0.4198, Test Acc: 0.4400, Test Precision: 0.5000, Test Recall: 0.2143, Test F1: 0.3000\n",
            "Epoch: 15/100, Train Loss: 94.5795, Train Acc: 0.5200, Train Precision: 0.7805, Train Recall: 0.3368, Train F1: 0.4706, Test Acc: 0.4700, Test Precision: 0.5429, Test Recall: 0.3393, Test F1: 0.4176\n",
            "Epoch: 16/100, Train Loss: 94.5788, Train Acc: 0.5633, Train Precision: 0.7438, Train Recall: 0.4737, Train F1: 0.5788, Test Acc: 0.4900, Test Precision: 0.5455, Test Recall: 0.5357, Test F1: 0.5405\n",
            "Epoch: 17/100, Train Loss: 94.5782, Train Acc: 0.5700, Train Precision: 0.7075, Train Recall: 0.5474, Train F1: 0.6172, Test Acc: 0.4900, Test Precision: 0.5424, Test Recall: 0.5714, Test F1: 0.5565\n",
            "Epoch: 18/100, Train Loss: 94.5777, Train Acc: 0.6033, Train Precision: 0.7052, Train Recall: 0.6421, Train F1: 0.6722, Test Acc: 0.5500, Test Precision: 0.5821, Test Recall: 0.6964, Test F1: 0.6341\n",
            "Epoch: 19/100, Train Loss: 94.5771, Train Acc: 0.6333, Train Precision: 0.6961, Train Recall: 0.7474, Train F1: 0.7208, Test Acc: 0.6000, Test Precision: 0.6111, Test Recall: 0.7857, Test F1: 0.6875\n",
            "Epoch: 20/100, Train Loss: 94.5766, Train Acc: 0.6333, Train Precision: 0.6802, Train Recall: 0.7947, Train F1: 0.7330, Test Acc: 0.5600, Test Precision: 0.5750, Test Recall: 0.8214, Test F1: 0.6765\n",
            "Epoch: 21/100, Train Loss: 94.5757, Train Acc: 0.6333, Train Precision: 0.6681, Train Recall: 0.8368, Train F1: 0.7430, Test Acc: 0.5500, Test Precision: 0.5647, Test Recall: 0.8571, Test F1: 0.6809\n",
            "Epoch: 22/100, Train Loss: 94.5751, Train Acc: 0.6500, Train Precision: 0.6707, Train Recall: 0.8789, Train F1: 0.7608, Test Acc: 0.5400, Test Precision: 0.5581, Test Recall: 0.8571, Test F1: 0.6761\n",
            "Epoch: 23/100, Train Loss: 94.5741, Train Acc: 0.6433, Train Precision: 0.6520, Train Recall: 0.9368, Train F1: 0.7689, Test Acc: 0.5500, Test Precision: 0.5604, Test Recall: 0.9107, Test F1: 0.6939\n",
            "Epoch: 24/100, Train Loss: 94.5734, Train Acc: 0.6367, Train Precision: 0.6431, Train Recall: 0.9579, Train F1: 0.7696, Test Acc: 0.5500, Test Precision: 0.5579, Test Recall: 0.9464, Test F1: 0.7020\n",
            "Epoch: 25/100, Train Loss: 94.5725, Train Acc: 0.6300, Train Precision: 0.6367, Train Recall: 0.9684, Train F1: 0.7683, Test Acc: 0.5500, Test Precision: 0.5567, Test Recall: 0.9643, Test F1: 0.7059\n",
            "Epoch: 26/100, Train Loss: 94.5718, Train Acc: 0.6333, Train Precision: 0.6379, Train Recall: 0.9737, Train F1: 0.7708, Test Acc: 0.5600, Test Precision: 0.5612, Test Recall: 0.9821, Test F1: 0.7143\n",
            "Epoch: 27/100, Train Loss: 94.5710, Train Acc: 0.6300, Train Precision: 0.6348, Train Recall: 0.9789, Train F1: 0.7702, Test Acc: 0.5500, Test Precision: 0.5556, Test Recall: 0.9821, Test F1: 0.7097\n",
            "Epoch: 28/100, Train Loss: 94.5700, Train Acc: 0.6300, Train Precision: 0.6348, Train Recall: 0.9789, Train F1: 0.7702, Test Acc: 0.5500, Test Precision: 0.5556, Test Recall: 0.9821, Test F1: 0.7097\n",
            "Epoch: 29/100, Train Loss: 94.5688, Train Acc: 0.6300, Train Precision: 0.6339, Train Recall: 0.9842, Train F1: 0.7711, Test Acc: 0.5600, Test Precision: 0.5600, Test Recall: 1.0000, Test F1: 0.7179\n",
            "Epoch: 30/100, Train Loss: 94.5677, Train Acc: 0.6333, Train Precision: 0.6351, Train Recall: 0.9895, Train F1: 0.7737, Test Acc: 0.5600, Test Precision: 0.5600, Test Recall: 1.0000, Test F1: 0.7179\n",
            "Epoch: 31/100, Train Loss: 94.5668, Train Acc: 0.6367, Train Precision: 0.6364, Train Recall: 0.9947, Train F1: 0.7762, Test Acc: 0.5600, Test Precision: 0.5600, Test Recall: 1.0000, Test F1: 0.7179\n",
            "Epoch: 32/100, Train Loss: 94.5659, Train Acc: 0.6333, Train Precision: 0.6342, Train Recall: 0.9947, Train F1: 0.7746, Test Acc: 0.5600, Test Precision: 0.5600, Test Recall: 1.0000, Test F1: 0.7179\n",
            "Epoch: 33/100, Train Loss: 94.5647, Train Acc: 0.6333, Train Precision: 0.6342, Train Recall: 0.9947, Train F1: 0.7746, Test Acc: 0.5600, Test Precision: 0.5600, Test Recall: 1.0000, Test F1: 0.7179\n",
            "Epoch: 34/100, Train Loss: 94.5636, Train Acc: 0.6333, Train Precision: 0.6342, Train Recall: 0.9947, Train F1: 0.7746, Test Acc: 0.5600, Test Precision: 0.5600, Test Recall: 1.0000, Test F1: 0.7179\n",
            "Epoch: 35/100, Train Loss: 94.5623, Train Acc: 0.6333, Train Precision: 0.6342, Train Recall: 0.9947, Train F1: 0.7746, Test Acc: 0.5600, Test Precision: 0.5600, Test Recall: 1.0000, Test F1: 0.7179\n",
            "Epoch: 36/100, Train Loss: 94.5611, Train Acc: 0.6300, Train Precision: 0.6321, Train Recall: 0.9947, Train F1: 0.7730, Test Acc: 0.5600, Test Precision: 0.5600, Test Recall: 1.0000, Test F1: 0.7179\n",
            "Epoch: 37/100, Train Loss: 94.5601, Train Acc: 0.6300, Train Precision: 0.6321, Train Recall: 0.9947, Train F1: 0.7730, Test Acc: 0.5600, Test Precision: 0.5600, Test Recall: 1.0000, Test F1: 0.7179\n",
            "Epoch: 38/100, Train Loss: 94.5589, Train Acc: 0.6333, Train Precision: 0.6333, Train Recall: 1.0000, Train F1: 0.7755, Test Acc: 0.5600, Test Precision: 0.5600, Test Recall: 1.0000, Test F1: 0.7179\n",
            "Epoch: 39/100, Train Loss: 94.5574, Train Acc: 0.6333, Train Precision: 0.6333, Train Recall: 1.0000, Train F1: 0.7755, Test Acc: 0.5600, Test Precision: 0.5600, Test Recall: 1.0000, Test F1: 0.7179\n",
            "Epoch: 40/100, Train Loss: 94.5557, Train Acc: 0.6333, Train Precision: 0.6333, Train Recall: 1.0000, Train F1: 0.7755, Test Acc: 0.5600, Test Precision: 0.5600, Test Recall: 1.0000, Test F1: 0.7179\n",
            "Epoch: 41/100, Train Loss: 94.5540, Train Acc: 0.6333, Train Precision: 0.6333, Train Recall: 1.0000, Train F1: 0.7755, Test Acc: 0.5600, Test Precision: 0.5600, Test Recall: 1.0000, Test F1: 0.7179\n",
            "Epoch: 42/100, Train Loss: 94.5521, Train Acc: 0.6333, Train Precision: 0.6333, Train Recall: 1.0000, Train F1: 0.7755, Test Acc: 0.5600, Test Precision: 0.5600, Test Recall: 1.0000, Test F1: 0.7179\n",
            "Epoch: 43/100, Train Loss: 94.5498, Train Acc: 0.6333, Train Precision: 0.6333, Train Recall: 1.0000, Train F1: 0.7755, Test Acc: 0.5600, Test Precision: 0.5600, Test Recall: 1.0000, Test F1: 0.7179\n",
            "Epoch: 44/100, Train Loss: 94.5476, Train Acc: 0.6333, Train Precision: 0.6333, Train Recall: 1.0000, Train F1: 0.7755, Test Acc: 0.5600, Test Precision: 0.5600, Test Recall: 1.0000, Test F1: 0.7179\n",
            "Epoch: 45/100, Train Loss: 94.5450, Train Acc: 0.6333, Train Precision: 0.6333, Train Recall: 1.0000, Train F1: 0.7755, Test Acc: 0.5600, Test Precision: 0.5600, Test Recall: 1.0000, Test F1: 0.7179\n",
            "Epoch: 46/100, Train Loss: 94.5413, Train Acc: 0.6333, Train Precision: 0.6333, Train Recall: 1.0000, Train F1: 0.7755, Test Acc: 0.5600, Test Precision: 0.5600, Test Recall: 1.0000, Test F1: 0.7179\n",
            "Epoch: 47/100, Train Loss: 94.5365, Train Acc: 0.6333, Train Precision: 0.6333, Train Recall: 1.0000, Train F1: 0.7755, Test Acc: 0.5600, Test Precision: 0.5600, Test Recall: 1.0000, Test F1: 0.7179\n",
            "Epoch: 48/100, Train Loss: 94.5297, Train Acc: 0.6333, Train Precision: 0.6333, Train Recall: 1.0000, Train F1: 0.7755, Test Acc: 0.5600, Test Precision: 0.5600, Test Recall: 1.0000, Test F1: 0.7179\n",
            "Epoch: 49/100, Train Loss: 94.5179, Train Acc: 0.6333, Train Precision: 0.6333, Train Recall: 1.0000, Train F1: 0.7755, Test Acc: 0.5600, Test Precision: 0.5600, Test Recall: 1.0000, Test F1: 0.7179\n",
            "Epoch: 50/100, Train Loss: 94.4991, Train Acc: 0.6333, Train Precision: 0.6333, Train Recall: 1.0000, Train F1: 0.7755, Test Acc: 0.5600, Test Precision: 0.5600, Test Recall: 1.0000, Test F1: 0.7179\n",
            "Epoch: 51/100, Train Loss: 94.4656, Train Acc: 0.6333, Train Precision: 0.6333, Train Recall: 1.0000, Train F1: 0.7755, Test Acc: 0.5600, Test Precision: 0.5600, Test Recall: 1.0000, Test F1: 0.7179\n",
            "Epoch: 52/100, Train Loss: 94.4033, Train Acc: 0.6333, Train Precision: 0.6333, Train Recall: 1.0000, Train F1: 0.7755, Test Acc: 0.5600, Test Precision: 0.5600, Test Recall: 1.0000, Test F1: 0.7179\n",
            "Epoch: 53/100, Train Loss: 94.3244, Train Acc: 0.6333, Train Precision: 0.6333, Train Recall: 1.0000, Train F1: 0.7755, Test Acc: 0.5600, Test Precision: 0.5600, Test Recall: 1.0000, Test F1: 0.7179\n",
            "Epoch: 54/100, Train Loss: 94.2352, Train Acc: 0.6333, Train Precision: 0.6333, Train Recall: 1.0000, Train F1: 0.7755, Test Acc: 0.5600, Test Precision: 0.5600, Test Recall: 1.0000, Test F1: 0.7179\n",
            "Epoch: 55/100, Train Loss: 94.1561, Train Acc: 0.6333, Train Precision: 0.6333, Train Recall: 1.0000, Train F1: 0.7755, Test Acc: 0.5600, Test Precision: 0.5600, Test Recall: 1.0000, Test F1: 0.7179\n",
            "Epoch: 56/100, Train Loss: 94.0872, Train Acc: 0.6333, Train Precision: 0.6333, Train Recall: 1.0000, Train F1: 0.7755, Test Acc: 0.5600, Test Precision: 0.5600, Test Recall: 1.0000, Test F1: 0.7179\n",
            "Epoch: 57/100, Train Loss: 94.0264, Train Acc: 0.6333, Train Precision: 0.6333, Train Recall: 1.0000, Train F1: 0.7755, Test Acc: 0.5600, Test Precision: 0.5600, Test Recall: 1.0000, Test F1: 0.7179\n",
            "Epoch: 58/100, Train Loss: 93.9745, Train Acc: 0.6333, Train Precision: 0.6333, Train Recall: 1.0000, Train F1: 0.7755, Test Acc: 0.5600, Test Precision: 0.5600, Test Recall: 1.0000, Test F1: 0.7179\n",
            "Epoch: 59/100, Train Loss: 93.9326, Train Acc: 0.6333, Train Precision: 0.6333, Train Recall: 1.0000, Train F1: 0.7755, Test Acc: 0.5600, Test Precision: 0.5600, Test Recall: 1.0000, Test F1: 0.7179\n",
            "Epoch: 60/100, Train Loss: 93.8963, Train Acc: 0.6333, Train Precision: 0.6333, Train Recall: 1.0000, Train F1: 0.7755, Test Acc: 0.5600, Test Precision: 0.5600, Test Recall: 1.0000, Test F1: 0.7179\n",
            "Epoch: 61/100, Train Loss: 93.8653, Train Acc: 0.6333, Train Precision: 0.6333, Train Recall: 1.0000, Train F1: 0.7755, Test Acc: 0.5600, Test Precision: 0.5600, Test Recall: 1.0000, Test F1: 0.7179\n",
            "Epoch: 62/100, Train Loss: 93.8401, Train Acc: 0.6333, Train Precision: 0.6333, Train Recall: 1.0000, Train F1: 0.7755, Test Acc: 0.5600, Test Precision: 0.5600, Test Recall: 1.0000, Test F1: 0.7179\n",
            "Epoch: 63/100, Train Loss: 93.8163, Train Acc: 0.6333, Train Precision: 0.6333, Train Recall: 1.0000, Train F1: 0.7755, Test Acc: 0.5600, Test Precision: 0.5600, Test Recall: 1.0000, Test F1: 0.7179\n",
            "Epoch: 64/100, Train Loss: 93.7956, Train Acc: 0.6333, Train Precision: 0.6333, Train Recall: 1.0000, Train F1: 0.7755, Test Acc: 0.5600, Test Precision: 0.5600, Test Recall: 1.0000, Test F1: 0.7179\n",
            "Epoch: 65/100, Train Loss: 93.7786, Train Acc: 0.6333, Train Precision: 0.6333, Train Recall: 1.0000, Train F1: 0.7755, Test Acc: 0.5600, Test Precision: 0.5600, Test Recall: 1.0000, Test F1: 0.7179\n",
            "Epoch: 66/100, Train Loss: 93.7641, Train Acc: 0.6333, Train Precision: 0.6333, Train Recall: 1.0000, Train F1: 0.7755, Test Acc: 0.5600, Test Precision: 0.5600, Test Recall: 1.0000, Test F1: 0.7179\n",
            "Epoch: 67/100, Train Loss: 93.7516, Train Acc: 0.6333, Train Precision: 0.6333, Train Recall: 1.0000, Train F1: 0.7755, Test Acc: 0.5600, Test Precision: 0.5600, Test Recall: 1.0000, Test F1: 0.7179\n",
            "Epoch: 68/100, Train Loss: 93.7404, Train Acc: 0.6333, Train Precision: 0.6333, Train Recall: 1.0000, Train F1: 0.7755, Test Acc: 0.5600, Test Precision: 0.5600, Test Recall: 1.0000, Test F1: 0.7179\n",
            "Epoch: 69/100, Train Loss: 93.7309, Train Acc: 0.6333, Train Precision: 0.6333, Train Recall: 1.0000, Train F1: 0.7755, Test Acc: 0.5600, Test Precision: 0.5600, Test Recall: 1.0000, Test F1: 0.7179\n",
            "Epoch: 70/100, Train Loss: 93.7219, Train Acc: 0.6333, Train Precision: 0.6333, Train Recall: 1.0000, Train F1: 0.7755, Test Acc: 0.5600, Test Precision: 0.5600, Test Recall: 1.0000, Test F1: 0.7179\n",
            "Epoch: 71/100, Train Loss: 93.7132, Train Acc: 0.6333, Train Precision: 0.6333, Train Recall: 1.0000, Train F1: 0.7755, Test Acc: 0.5600, Test Precision: 0.5600, Test Recall: 1.0000, Test F1: 0.7179\n",
            "Epoch: 72/100, Train Loss: 93.7049, Train Acc: 0.6333, Train Precision: 0.6333, Train Recall: 1.0000, Train F1: 0.7755, Test Acc: 0.5600, Test Precision: 0.5600, Test Recall: 1.0000, Test F1: 0.7179\n",
            "Epoch: 73/100, Train Loss: 93.6976, Train Acc: 0.6333, Train Precision: 0.6333, Train Recall: 1.0000, Train F1: 0.7755, Test Acc: 0.5600, Test Precision: 0.5600, Test Recall: 1.0000, Test F1: 0.7179\n",
            "Epoch: 74/100, Train Loss: 93.6910, Train Acc: 0.6333, Train Precision: 0.6333, Train Recall: 1.0000, Train F1: 0.7755, Test Acc: 0.5600, Test Precision: 0.5600, Test Recall: 1.0000, Test F1: 0.7179\n",
            "Epoch: 75/100, Train Loss: 93.6850, Train Acc: 0.6333, Train Precision: 0.6333, Train Recall: 1.0000, Train F1: 0.7755, Test Acc: 0.5600, Test Precision: 0.5600, Test Recall: 1.0000, Test F1: 0.7179\n",
            "Epoch: 76/100, Train Loss: 93.6797, Train Acc: 0.6333, Train Precision: 0.6333, Train Recall: 1.0000, Train F1: 0.7755, Test Acc: 0.5600, Test Precision: 0.5600, Test Recall: 1.0000, Test F1: 0.7179\n",
            "Epoch: 77/100, Train Loss: 93.6754, Train Acc: 0.6333, Train Precision: 0.6333, Train Recall: 1.0000, Train F1: 0.7755, Test Acc: 0.5600, Test Precision: 0.5600, Test Recall: 1.0000, Test F1: 0.7179\n",
            "Epoch: 78/100, Train Loss: 93.6709, Train Acc: 0.6333, Train Precision: 0.6333, Train Recall: 1.0000, Train F1: 0.7755, Test Acc: 0.5600, Test Precision: 0.5600, Test Recall: 1.0000, Test F1: 0.7179\n",
            "Epoch: 79/100, Train Loss: 93.6671, Train Acc: 0.6333, Train Precision: 0.6333, Train Recall: 1.0000, Train F1: 0.7755, Test Acc: 0.5600, Test Precision: 0.5600, Test Recall: 1.0000, Test F1: 0.7179\n",
            "Epoch: 80/100, Train Loss: 93.6630, Train Acc: 0.6333, Train Precision: 0.6333, Train Recall: 1.0000, Train F1: 0.7755, Test Acc: 0.5600, Test Precision: 0.5600, Test Recall: 1.0000, Test F1: 0.7179\n",
            "Epoch: 81/100, Train Loss: 93.6589, Train Acc: 0.6333, Train Precision: 0.6333, Train Recall: 1.0000, Train F1: 0.7755, Test Acc: 0.5600, Test Precision: 0.5600, Test Recall: 1.0000, Test F1: 0.7179\n",
            "Epoch: 82/100, Train Loss: 93.6555, Train Acc: 0.6333, Train Precision: 0.6333, Train Recall: 1.0000, Train F1: 0.7755, Test Acc: 0.5600, Test Precision: 0.5600, Test Recall: 1.0000, Test F1: 0.7179\n",
            "Epoch: 83/100, Train Loss: 93.6520, Train Acc: 0.6333, Train Precision: 0.6333, Train Recall: 1.0000, Train F1: 0.7755, Test Acc: 0.5600, Test Precision: 0.5600, Test Recall: 1.0000, Test F1: 0.7179\n",
            "Epoch: 84/100, Train Loss: 93.6493, Train Acc: 0.6333, Train Precision: 0.6333, Train Recall: 1.0000, Train F1: 0.7755, Test Acc: 0.5600, Test Precision: 0.5600, Test Recall: 1.0000, Test F1: 0.7179\n",
            "Epoch: 85/100, Train Loss: 93.6469, Train Acc: 0.6333, Train Precision: 0.6333, Train Recall: 1.0000, Train F1: 0.7755, Test Acc: 0.5600, Test Precision: 0.5600, Test Recall: 1.0000, Test F1: 0.7179\n",
            "Epoch: 86/100, Train Loss: 93.6445, Train Acc: 0.6333, Train Precision: 0.6333, Train Recall: 1.0000, Train F1: 0.7755, Test Acc: 0.5600, Test Precision: 0.5600, Test Recall: 1.0000, Test F1: 0.7179\n",
            "Epoch: 87/100, Train Loss: 93.6423, Train Acc: 0.6333, Train Precision: 0.6333, Train Recall: 1.0000, Train F1: 0.7755, Test Acc: 0.5600, Test Precision: 0.5600, Test Recall: 1.0000, Test F1: 0.7179\n",
            "Epoch: 88/100, Train Loss: 93.6403, Train Acc: 0.6333, Train Precision: 0.6333, Train Recall: 1.0000, Train F1: 0.7755, Test Acc: 0.5600, Test Precision: 0.5600, Test Recall: 1.0000, Test F1: 0.7179\n",
            "Epoch: 89/100, Train Loss: 93.6385, Train Acc: 0.6333, Train Precision: 0.6333, Train Recall: 1.0000, Train F1: 0.7755, Test Acc: 0.5600, Test Precision: 0.5600, Test Recall: 1.0000, Test F1: 0.7179\n",
            "Epoch: 90/100, Train Loss: 93.6369, Train Acc: 0.6333, Train Precision: 0.6333, Train Recall: 1.0000, Train F1: 0.7755, Test Acc: 0.5600, Test Precision: 0.5600, Test Recall: 1.0000, Test F1: 0.7179\n",
            "Epoch: 91/100, Train Loss: 93.6352, Train Acc: 0.6333, Train Precision: 0.6333, Train Recall: 1.0000, Train F1: 0.7755, Test Acc: 0.5600, Test Precision: 0.5600, Test Recall: 1.0000, Test F1: 0.7179\n",
            "Epoch: 92/100, Train Loss: 93.6335, Train Acc: 0.6333, Train Precision: 0.6333, Train Recall: 1.0000, Train F1: 0.7755, Test Acc: 0.5600, Test Precision: 0.5600, Test Recall: 1.0000, Test F1: 0.7179\n",
            "Epoch: 93/100, Train Loss: 93.6319, Train Acc: 0.6333, Train Precision: 0.6333, Train Recall: 1.0000, Train F1: 0.7755, Test Acc: 0.5600, Test Precision: 0.5600, Test Recall: 1.0000, Test F1: 0.7179\n",
            "Epoch: 94/100, Train Loss: 93.6304, Train Acc: 0.6333, Train Precision: 0.6333, Train Recall: 1.0000, Train F1: 0.7755, Test Acc: 0.5600, Test Precision: 0.5600, Test Recall: 1.0000, Test F1: 0.7179\n",
            "Epoch: 95/100, Train Loss: 93.6285, Train Acc: 0.6333, Train Precision: 0.6333, Train Recall: 1.0000, Train F1: 0.7755, Test Acc: 0.5600, Test Precision: 0.5600, Test Recall: 1.0000, Test F1: 0.7179\n",
            "Epoch: 96/100, Train Loss: 93.6274, Train Acc: 0.6333, Train Precision: 0.6333, Train Recall: 1.0000, Train F1: 0.7755, Test Acc: 0.5600, Test Precision: 0.5600, Test Recall: 1.0000, Test F1: 0.7179\n",
            "Epoch: 97/100, Train Loss: 93.6264, Train Acc: 0.6333, Train Precision: 0.6333, Train Recall: 1.0000, Train F1: 0.7755, Test Acc: 0.5600, Test Precision: 0.5600, Test Recall: 1.0000, Test F1: 0.7179\n",
            "Epoch: 98/100, Train Loss: 93.6252, Train Acc: 0.6333, Train Precision: 0.6333, Train Recall: 1.0000, Train F1: 0.7755, Test Acc: 0.5600, Test Precision: 0.5600, Test Recall: 1.0000, Test F1: 0.7179\n",
            "Epoch: 99/100, Train Loss: 93.6241, Train Acc: 0.6333, Train Precision: 0.6333, Train Recall: 1.0000, Train F1: 0.7755, Test Acc: 0.5600, Test Precision: 0.5600, Test Recall: 1.0000, Test F1: 0.7179\n",
            "Epoch: 100/100, Train Loss: 93.6229, Train Acc: 0.6333, Train Precision: 0.6333, Train Recall: 1.0000, Train F1: 0.7755, Test Acc: 0.5600, Test Precision: 0.5600, Test Recall: 1.0000, Test F1: 0.7179\n"
          ]
        }
      ],
      "source": [
        "# Lists to store metrics for each epoch\n",
        "train_precision = []\n",
        "train_recall = []\n",
        "train_f1 = []\n",
        "test_precision = []\n",
        "test_recall = []\n",
        "test_f1 = []\n",
        "\n",
        "epochs_n = 100  # Total number of epochs to train the model\n",
        "\n",
        "for epoch in range(epochs_n):\n",
        "    # Call the train function to get training metrics\n",
        "    train_loss, train_acc, train_prec, train_rec, train_f1_score = train(model, optimizer, train_loader)\n",
        "    # Save precision, recall, F1, and other metrics for training\n",
        "    train_precision.append(train_prec)\n",
        "    train_recall.append(train_rec)\n",
        "    train_f1.append(train_f1_score)\n",
        "\n",
        "    # Call the test function to get testing metrics\n",
        "    test_acc, test_prec, test_rec, test_f1_score = test(model, test_loader)\n",
        "\n",
        "    # Save precision, recall, F1, and other metrics for testing\n",
        "    test_precision.append(test_prec)\n",
        "    test_recall.append(test_rec)\n",
        "    test_f1.append(test_f1_score)\n",
        "\n",
        "    # Print metrics after each epoch\n",
        "    print(f'Epoch: {epoch+1}/{epochs_n}, Train Loss: {train_loss:.4f}, Train Acc: {train_acc:.4f}, Train Precision: {train_prec:.4f}, Train Recall: {train_rec:.4f}, Train F1: {train_f1_score:.4f}, Test Acc: {test_acc:.4f}, Test Precision: {test_prec:.4f}, Test Recall: {test_rec:.4f}, Test F1: {test_f1_score:.4f}')\n"
      ]
    },
    {
      "cell_type": "markdown",
      "metadata": {
        "id": "K-5UikLnUl5I"
      },
      "source": [
        "### Results\n",
        "Ploting the F1, Precision, Recall of both train and test sets over the 100 epochs."
      ]
    },
    {
      "cell_type": "code",
      "execution_count": 23,
      "metadata": {
        "colab": {
          "base_uri": "https://localhost:8080/",
          "height": 523
        },
        "id": "NKU7IeK63YQQ",
        "outputId": "03356e0b-fcd8-422a-ce0b-15b328211648"
      },
      "outputs": [
        {
          "data": {
            "image/png": "[encoded data removed]",
            "text/plain": [
              "<Figure size 1200x600 with 2 Axes>"
            ]
          },
          "metadata": {},
          "output_type": "display_data"
        }
      ],
      "source": [
        "import matplotlib.pyplot as plt\n",
        "\n",
        "plt.figure(figsize=(12, 6))\n",
        "\n",
        "# Plot Precision, Recall, F1 for Train\n",
        "# You need to plot the Precision, Recall, and F1 score for the training set\n",
        "plt.subplot(1, 2, 1)\n",
        "plt.title(\"Train\")\n",
        "plt.plot(train_precision, color=\"green\", label=\"Precision\")\n",
        "plt.plot(train_recall, color=\"red\", label=\"Recall\")\n",
        "plt.plot(train_f1, color=\"blue\", label=\"F1\")\n",
        "\n",
        "plt.legend()\n",
        "\n",
        "# Plot the test metrics\n",
        "# Plot the Precision, Recall, and F1 score for the test set\n",
        "plt.subplot(1, 2, 2)\n",
        "plt.title(\"Test\")\n",
        "plt.plot(test_precision, color=\"green\", label=\"Precision\")\n",
        "plt.plot(test_recall, color=\"red\", label=\"Recall\")\n",
        "plt.plot(test_f1, color=\"blue\", label=\"F1\")\n",
        "plt.legend()\n",
        "# Display the plots\n",
        "\n",
        "plt.show()"
      ]
    }
  ],
  "metadata": {
    "accelerator": "GPU",
    "colab": {
      "gpuType": "T4",
      "provenance": []
    },
    "kernelspec": {
      "display_name": "Python 3 (ipykernel)",
      "language": "python",
      "name": "python3"
    },
    "language_info": {
      "codemirror_mode": {
        "name": "ipython",
        "version": 3
      },
      "file_extension": ".py",
      "mimetype": "text/x-python",
      "name": "python",
      "nbconvert_exporter": "python",
      "pygments_lexer": "ipython3",
      "version": "3.10.12"
    }
  },
  "nbformat": 4,
  "nbformat_minor": 0
}
